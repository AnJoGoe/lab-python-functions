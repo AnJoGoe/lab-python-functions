{
 "cells": [
  {
   "cell_type": "markdown",
   "id": "25d7736c-ba17-4aff-b6bb-66eba20fbf4e",
   "metadata": {},
   "source": [
    "# Lab | Functions"
   ]
  },
  {
   "cell_type": "markdown",
   "id": "0c581062-8967-4d93-b06e-62833222f930",
   "metadata": {
    "tags": []
   },
   "source": [
    "## Exercise: Managing Customer Orders with Functions\n",
    "\n",
    "In the previous exercise, you improved the code for managing customer orders by using loops and flow control. Now, let's take it a step further and refactor the code by introducing functions.\n",
    "\n",
    "Follow the steps below to complete the exercise:\n",
    "\n",
    "1. Define a function named `initialize_inventory` that takes `products` as a parameter. Inside the function, implement the code for initializing the inventory dictionary using a loop and user input.\n",
    "\n",
    "2. Define a function named `get_customer_orders` that takes no parameters. Inside the function, implement the code for prompting the user to enter the product names using a loop. The function should return the `customer_orders` set.\n",
    "\n",
    "3. Define a function named `update_inventory` that takes `customer_orders` and `inventory` as parameters. Inside the function, implement the code for updating the inventory dictionary based on the customer orders.\n",
    "\n",
    "4. Define a function named `calculate_order_statistics` that takes `customer_orders` and `products` as parameters. Inside the function, implement the code for calculating the order statistics (total products ordered, and percentage of unique products ordered). The function should return these values.\n",
    "\n",
    "5. Define a function named `print_order_statistics` that takes `order_statistics` as a parameter. Inside the function, implement the code for printing the order statistics.\n",
    "\n",
    "6. Define a function named `print_updated_inventory` that takes `inventory` as a parameter. Inside the function, implement the code for printing the updated inventory.\n",
    "\n",
    "7. Call the functions in the appropriate sequence to execute the program and manage customer orders.\n",
    "\n",
    "Hints for functions:\n",
    "\n",
    "- Consider the input parameters required for each function and their return values.\n",
    "- Utilize function parameters and return values to transfer data between functions.\n",
    "- Test your functions individually to ensure they work correctly.\n",
    "\n",
    "\n"
   ]
  },
  {
   "cell_type": "code",
   "execution_count": 1,
   "id": "35f0b9dc-dc6f-4302-9fc0-4a4b32e0184a",
   "metadata": {
    "tags": []
   },
   "outputs": [],
   "source": [
    "### Functions\n",
    "\n",
    "\n",
    "#Extra 1: Function that shows available products\n",
    "def available_prods(inventory):\n",
    "    available_prods_list = []\n",
    "    for key,value in inventory.items():\n",
    "        if value != 0:\n",
    "            available_prods_list.append(key)\n",
    "    return available_prods_list\n",
    "\n",
    "# 1. Define a function named `initialize_inventory` that takes `products` as a parameter. Inside the function, implement the code for initializing the inventory dictionary using a loop and user input.\n",
    "def initialize_inventory(products):\n",
    "    \"\"\"\n",
    "    The function takes a product and initializes the inventory dictionary\n",
    "    \"\"\"\n",
    "    inventory = {}\n",
    "\n",
    "    for prod in products:\n",
    "        while True:\n",
    "            try:\n",
    "                quantity = abs(int(input(f\"Add the quantity for product {prod}: \")))\n",
    "                inventory[prod] = quantity\n",
    "                break\n",
    "\n",
    "            except: print(\"This is not a valid input value! Please enter an integer!\")\n",
    "            \n",
    "    return inventory\n",
    "\n",
    "    \n",
    "\n",
    "# 2. Define a function named `get_customer_orders` that takes no parameters. Inside the function, implement the code for prompting the user to enter the product names using a loop. The function should return the `customer_orders` set.--> Modification: customer_oders --> dictionary instead of set\n",
    "def get_customer_orders(inventory):\n",
    "    \"\"\"\n",
    "    Store customer orders\n",
    "    \"\"\"\n",
    "    available_prods_list = available_prods(inventory)\n",
    "    \n",
    "    print(\"You can by the following products: \", ' and '.join([str(elem) for i,elem in enumerate(available_prods_list)]))\n",
    "    \n",
    "    customer_orders = {}\n",
    "\n",
    "    basket =  [key for key in inventory if inventory[key] != 0]\n",
    "#print(basket)\n",
    "\n",
    "\n",
    "    user_decision = \"yes\"\n",
    "\n",
    "    prod_no = 1\n",
    "\n",
    "    while user_decision == \"yes\":\n",
    "\n",
    "        while (purchase := input(f\"Add product {prod_no} to shopping card: \").lower()) not in basket:\n",
    "            print(\"Selected product is not available!\")\n",
    "\n",
    "        if customer_orders.get(purchase, 'Not found') == 'Not found':\n",
    "            customer_orders[purchase] = 1\n",
    "            #print(customer_orders)\n",
    "        else:\n",
    "            customer_orders[purchase] += 1\n",
    "\n",
    "        #inventory[purchase] -= 1\n",
    "        update_inventory(purchase, inventory)\n",
    "        basket = [key for key in inventory if inventory[key] != 0]\n",
    "\n",
    "        while (user_decision := input(\"Do you want to add another purchase (yes/no): \") or \"yes\").lower() not in [\"yes\", \"no\"]:\n",
    "            print(\"Please select Yes or No!\")\n",
    "\n",
    "\n",
    "        prod_no += 1\n",
    "        #customer_orders.add(purchase)\n",
    "\n",
    "    return customer_orders, inventory\n",
    "        \n",
    "\n",
    "    \n",
    "\n",
    "    \n",
    "# 3. Define a function named `update_inventory` that takes `customer_orders` and `inventory` as parameters. Inside the function, implement the code for updating the inventory dictionary based on the customer orders. --> Modification: function arg: purchase instead of customer_orders\n",
    "def update_inventory(purchase, inventory:dict):\n",
    "    \"\"\"\n",
    "    Update inventory\n",
    "    \"\"\"\n",
    "    inventory[purchase] -= 1\n",
    "    \n",
    "    return inventory\n",
    "\n",
    "# 4. Define a function named `calculate_order_statistics` that takes `customer_orders` and `products` as parameters. Inside the function, implement the code for calculating the order statistics (total products ordered, and percentage of unique products ordered). The function should return these values. --> Modification: function arg: inventory instead of products list\n",
    "def calculate_order_statistics(customer_orders:dict, inventory:dict):\n",
    "    \"\"\"\n",
    "    `calculate_order_statistics` that takes `customer_orders` and `inventory` as parameters\n",
    "    \"\"\"\n",
    "    \n",
    "    total_available_products = sum(inventory.values())\n",
    "    #print(inventory)\n",
    "    #print(f\"Total products available: {total_available_products}\")\n",
    "    \n",
    "    total_products_ordered = sum(customer_orders.values())\n",
    "    percentage_ordered = round((total_products_ordered/total_available_products)*100, 2)\n",
    "\n",
    "    return total_products_ordered, percentage_ordered\n",
    "\n",
    "# 5. Define a function named `print_order_statistics` that takes `order_statistics` as a parameter. Inside the function, implement the code for printing the order statistics.\n",
    "def print_order_statistics(total_products_ordered:int, percentage_ordered:float):\n",
    "    \"\"\"\n",
    "    print_order_statistics\n",
    "    \"\"\"\n",
    "    \n",
    "    print(\"Order Statistics:\")\n",
    "    print(f\"Total Products ordered {total_products_ordered}\")\n",
    "    print(f\"Percentage of Products Ordered: {percentage_ordered}% \")\n",
    "\n",
    "# 6. Define a function named `print_updated_inventory` that takes `inventory` as a parameter. Inside the function, implement the code for printing the updated inventory.\n",
    "def print_updated_inventory(inventory:dict):\n",
    "    \"\"\"\n",
    "    Print updated inventory\n",
    "    \"\"\"\n",
    "    for key, value in inventory.items():\n",
    "        print(f\"The updated inventory contains {value} piece(s) of product {key}\")\n",
    "\n"
   ]
  },
  {
   "cell_type": "code",
   "execution_count": null,
   "id": "ea291a47-a210-4030-97e6-b35c226c8156",
   "metadata": {},
   "outputs": [],
   "source": []
  },
  {
   "cell_type": "markdown",
   "id": "1b37cf38-f411-4e35-b156-1ed38e44adb3",
   "metadata": {
    "tags": []
   },
   "source": [
    "# 7. Call the functions in the appropriate sequence to execute the program and manage customer orders.m"
   ]
  },
  {
   "cell_type": "code",
   "execution_count": 3,
   "id": "c66415fb-a6ff-43d5-aa64-b608bb745ef9",
   "metadata": {
    "tags": []
   },
   "outputs": [],
   "source": [
    "products = [\"t-shirt\", \"mug\", \"hat\", \"book\", \"keychain\"]\n"
   ]
  },
  {
   "cell_type": "code",
   "execution_count": 4,
   "id": "1a2da4f0-1dee-43d9-a2b4-061d8f822a2e",
   "metadata": {
    "tags": []
   },
   "outputs": [
    {
     "name": "stdin",
     "output_type": "stream",
     "text": [
      "Add the quantity for product t-shirt:  5\n",
      "Add the quantity for product mug:  0\n",
      "Add the quantity for product hat:  2\n",
      "Add the quantity for product book:  3\n",
      "Add the quantity for product keychain:  4\n"
     ]
    }
   ],
   "source": [
    "\n",
    "inventory = initialize_inventory(products)"
   ]
  },
  {
   "cell_type": "code",
   "execution_count": 5,
   "id": "e97564c6-2c5b-45ed-9622-8483ae94a29f",
   "metadata": {
    "tags": []
   },
   "outputs": [
    {
     "name": "stdout",
     "output_type": "stream",
     "text": [
      "You can by the following products:  t-shirt and hat and book and keychain\n"
     ]
    },
    {
     "name": "stdin",
     "output_type": "stream",
     "text": [
      "Add product 1 to shopping card:  hat\n",
      "Do you want to add another purchase (yes/no):  yes\n",
      "Add product 2 to shopping card:  hat\n",
      "Do you want to add another purchase (yes/no):  yes\n",
      "Add product 3 to shopping card:  hat\n"
     ]
    },
    {
     "name": "stdout",
     "output_type": "stream",
     "text": [
      "Selected product is not available!\n"
     ]
    },
    {
     "name": "stdin",
     "output_type": "stream",
     "text": [
      "Add product 3 to shopping card:  mug\n"
     ]
    },
    {
     "name": "stdout",
     "output_type": "stream",
     "text": [
      "Selected product is not available!\n"
     ]
    },
    {
     "name": "stdin",
     "output_type": "stream",
     "text": [
      "Add product 3 to shopping card:  keychain\n",
      "Do you want to add another purchase (yes/no):  yes\n",
      "Add product 4 to shopping card:  book\n",
      "Do you want to add another purchase (yes/no):  yes\n",
      "Add product 5 to shopping card:  book\n",
      "Do you want to add another purchase (yes/no):  no\n"
     ]
    }
   ],
   "source": [
    "customer_orders, inventory = get_customer_orders(inventory)"
   ]
  },
  {
   "cell_type": "code",
   "execution_count": 6,
   "id": "67103251-4dac-4d5c-a2dd-9e2ad383950a",
   "metadata": {
    "tags": []
   },
   "outputs": [
    {
     "data": {
      "text/plain": [
       "({'hat': 2, 'keychain': 1, 'book': 2},\n",
       " {'t-shirt': 5, 'mug': 0, 'hat': 0, 'book': 1, 'keychain': 3})"
      ]
     },
     "execution_count": 6,
     "metadata": {},
     "output_type": "execute_result"
    }
   ],
   "source": [
    "customer_orders, inventory"
   ]
  },
  {
   "cell_type": "code",
   "execution_count": 7,
   "id": "702b8951-4cb3-4391-9584-2a1403345f7f",
   "metadata": {
    "tags": []
   },
   "outputs": [
    {
     "data": {
      "text/plain": [
       "(5, 55.56)"
      ]
     },
     "execution_count": 7,
     "metadata": {},
     "output_type": "execute_result"
    }
   ],
   "source": [
    "total_products_ordered, percentage_ordered = calculate_order_statistics(customer_orders, inventory)\n",
    "total_products_ordered, percentage_ordered"
   ]
  },
  {
   "cell_type": "code",
   "execution_count": 8,
   "id": "1fd1aa69-c0c4-4364-8fcd-c124bcaff1d7",
   "metadata": {
    "tags": []
   },
   "outputs": [
    {
     "name": "stdout",
     "output_type": "stream",
     "text": [
      "Order Statistics:\n",
      "Total Products ordered 5\n",
      "Percentage of Products Ordered: 55.56% \n"
     ]
    }
   ],
   "source": [
    "print_order_statistics(total_products_ordered, percentage_ordered)"
   ]
  },
  {
   "cell_type": "code",
   "execution_count": 9,
   "id": "c7369009-35b3-4421-95c9-e128645530dd",
   "metadata": {
    "tags": []
   },
   "outputs": [
    {
     "name": "stdout",
     "output_type": "stream",
     "text": [
      "The updated inventory contains 5 piece(s) of product t-shirt\n",
      "The updated inventory contains 0 piece(s) of product mug\n",
      "The updated inventory contains 0 piece(s) of product hat\n",
      "The updated inventory contains 1 piece(s) of product book\n",
      "The updated inventory contains 3 piece(s) of product keychain\n"
     ]
    }
   ],
   "source": [
    "print_updated_inventory(inventory)"
   ]
  },
  {
   "cell_type": "code",
   "execution_count": null,
   "id": "5fd4de59-5b12-490d-8bdb-6089b16a76f1",
   "metadata": {},
   "outputs": [],
   "source": []
  }
 ],
 "metadata": {
  "kernelspec": {
   "display_name": "Python 3 (ipykernel)",
   "language": "python",
   "name": "python3"
  },
  "language_info": {
   "codemirror_mode": {
    "name": "ipython",
    "version": 3
   },
   "file_extension": ".py",
   "mimetype": "text/x-python",
   "name": "python",
   "nbconvert_exporter": "python",
   "pygments_lexer": "ipython3",
   "version": "3.11.5"
  }
 },
 "nbformat": 4,
 "nbformat_minor": 5
}
